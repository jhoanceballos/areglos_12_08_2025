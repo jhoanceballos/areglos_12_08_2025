{
  "nbformat": 4,
  "nbformat_minor": 0,
  "metadata": {
    "colab": {
      "provenance": [],
      "authorship_tag": "ABX9TyP8KhufIF36bTYTKqdbjZb9",
      "include_colab_link": true
    },
    "kernelspec": {
      "name": "python3",
      "display_name": "Python 3"
    },
    "language_info": {
      "name": "python"
    }
  },
  "cells": [
    {
      "cell_type": "markdown",
      "metadata": {
        "id": "view-in-github",
        "colab_type": "text"
      },
      "source": [
        "<a href=\"https://colab.research.google.com/github/jhoanceballos/areglos_12_08_2025/blob/main/vectores.ipynb\" target=\"_parent\"><img src=\"https://colab.research.google.com/assets/colab-badge.svg\" alt=\"Open In Colab\"/></a>"
      ]
    },
    {
      "cell_type": "markdown",
      "source": [
        "los vectores son reserva de memoria para almacenar infomacion, solo puede ser de un tulpo, si es numerico, es numerico, si es texto, debe continuar siendo texto, esto aplia para las matrices, los areglos son identificadores estaticos"
      ],
      "metadata": {
        "id": "zJku1gf0U6DS"
      }
    },
    {
      "cell_type": "code",
      "source": [
        "import numpy as np # np es un aleas para recortar el nombre de la numpy\n",
        "vector = np.array([1, 2, 3, 4, 5]) # Creamos un vector de numpy\n",
        "print(vector) # Imprimimos el vector\n",
        "# quieros imprimir el tercer elemento del vector\n",
        "print(vector[2]) # Imprimimos el tercer elemento del vector (indice 2)\n",
        "\"\"\"los vectores son como las listas,no tienen un metodo\n",
        "append() para agregar elementos\n",
        "o tienen un metodo pop() para eliminar elementos, pero si tienen\n",
        "metodo reshape() para cambiar su forma, adicionalmente despues\n",
        "creado no se pueden cambiar de tamaño del vector \"\"\"\n",
        "vector1 =np.zeros(5) # Creamos un vector de ceros de tamaño 5\n",
        "print(vector1) # Imprimimos el vector de ceros\n",
        "vector2 = np.ones(5) # Creamos un vector de unos de tamaño 5\n",
        "print(vector2) # Imprimimos el vector de unos\n",
        "vector3 =np.random(1,10) # creamos un vector de numeros aleatorios entre 1 al 10\n",
        "print(\"range\",vector3) # Imprimimos el vector de numeros rango\n",
        "vector4 = np.arange(1, 10, 4) # Creamos un vector de numeros del 1 al 10 con paso de 2\n",
        "print(\"arange\", vector4) # Imprimimos el vector de numeros con paso de\n",
        "vector5 = np.linspace(1, 10, 5) # Creamos un vector de numeros del 1 al 10 con 5 elementos\n",
        "print(\"range\", vector5) # Imprimimos el vector de numeros con 5\n",
        "vector6 = np.random.randint(1, 10, 10) # Creamos un vector de numeros aleatorios enteros entre 1 al 10 con 10 elementos\n",
        "print(\"randint\", vector6) # Imprimimos el vector de numeros aleatorios enteros entre 1 al 10 con 10\n"
      ],
      "metadata": {
        "id": "aA3zX41hVpGU"
      },
      "execution_count": null,
      "outputs": []
    }
  ]
}